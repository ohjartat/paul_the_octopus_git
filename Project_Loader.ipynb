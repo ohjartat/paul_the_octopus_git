{
  "nbformat": 4,
  "nbformat_minor": 0,
  "metadata": {
    "colab": {
      "name": "Project Loader.ipynb",
      "provenance": [],
      "authorship_tag": "ABX9TyNLW/zUwp1nDxbOzxGnYBbo",
      "include_colab_link": true
    },
    "kernelspec": {
      "name": "python3",
      "display_name": "Python 3"
    }
  },
  "cells": [
    {
      "cell_type": "markdown",
      "metadata": {
        "id": "view-in-github",
        "colab_type": "text"
      },
      "source": [
        "<a href=\"https://colab.research.google.com/github/ohjartat/paul_the_octopus_git/blob/master/Project_Loader.ipynb\" target=\"_parent\"><img src=\"https://colab.research.google.com/assets/colab-badge.svg\" alt=\"Open In Colab\"/></a>"
      ]
    },
    {
      "cell_type": "markdown",
      "metadata": {
        "id": "nJAtHA-DidQc",
        "colab_type": "text"
      },
      "source": [
        "# LOAD data"
      ]
    },
    {
      "cell_type": "code",
      "metadata": {
        "id": "41GwnrcIhjb-",
        "colab_type": "code",
        "colab": {
          "base_uri": "https://localhost:8080/",
          "height": 170
        },
        "outputId": "aa9934c9-37f6-477f-84ad-4042e354ebc3"
      },
      "source": [
        "# LOAD data and files from Drive and Github repo\n",
        "\n",
        "from google.colab import drive\n",
        "from os.path import join\n",
        "\n",
        "ROOT = '/content/drive'                                                          # default for the drive\n",
        "PROJ = 'My Drive/Colab Notebooks/paul_the_octopus'                               # path to your project on Drive\n",
        "\n",
        "GIT_USERNAME = \"ohjartat\"                                                        # replace with yours\n",
        "GIT_TOKEN = \"3ee6a3545064bb68ed7be9f1446b75857993916a\"                           # definitely replace with yours\n",
        "GIT_REPOSITORY = \"paul_the_octopus_git\"\n",
        "\n",
        "drive.mount(ROOT)                                                                # we mount the drive at /content/drive\n",
        "\n",
        "PROJECT_PATH = join(ROOT, PROJ)\n",
        "!mkdir \"{PROJECT_PATH}\"                                                          # in case we haven't created it already   \n",
        "\n",
        "GIT_PATH = \"https://\" + GIT_TOKEN + \"@github.com/\" + GIT_USERNAME + \"/\" + GIT_REPOSITORY + \".git\"\n",
        "!mkdir ./temp\n",
        "!git clone \"{GIT_PATH}\"\n",
        "!mv ./temp/* \"{PROJECT_PATH}\"\n",
        "!rm -rf ./temp\n",
        "!rsync -aP --exclude=data/ \"{PROJECT_PATH}\"/*  ./"
      ],
      "execution_count": 11,
      "outputs": [
        {
          "output_type": "stream",
          "text": [
            "Drive already mounted at /content/drive; to attempt to forcibly remount, call drive.mount(\"/content/drive\", force_remount=True).\n",
            "mkdir: cannot create directory ‘/content/drive/My Drive/Colab Notebooks/paul_the_octopus’: File exists\n",
            "Cloning into 'paul_the_octopus_git'...\n",
            "remote: Enumerating objects: 3, done.\u001b[K\n",
            "remote: Counting objects: 100% (3/3), done.\u001b[K\n",
            "remote: Total 3 (delta 0), reused 0 (delta 0), pack-reused 0\u001b[K\n",
            "Unpacking objects: 100% (3/3), done.\n",
            "mv: cannot stat './temp/*': No such file or directory\n",
            "sending incremental file list\n"
          ],
          "name": "stdout"
        }
      ]
    },
    {
      "cell_type": "markdown",
      "metadata": {
        "id": "5GGGKGQ2irsu",
        "colab_type": "text"
      },
      "source": [
        "# SAVE data"
      ]
    },
    {
      "cell_type": "code",
      "metadata": {
        "id": "wla9STQtivSV",
        "colab_type": "code",
        "colab": {
          "base_uri": "https://localhost:8080/",
          "height": 493
        },
        "outputId": "0599fa7e-77ac-4d80-8fa1-e13ac9a7a15a"
      },
      "source": [
        "# https://zerowithdot.com/colab-github-workflow/\n",
        "\n",
        "\n",
        "# git config --global user.email \n",
        "GIT_EMAIL = \"oskar.hjartquist@gmail.com\"\n",
        "# git config --global user.name \"Oskar GH\"\n",
        "GIT_NAME = \"Oskar GH\"\n",
        "\n",
        "!mkdir /temp\n",
        "# !git clone \"https://{GIT_TOKEN}@github.com/{GIT_USERNAME}/{GIT_REPOSITORY}.git\" ./temp\n",
        "# GIT_PATH_TEMP = \"https://\" + GIT_TOKEN + \"@github.com/\" + GIT_USERNAME + \"/\" + GIT_REPOSITORY + \".git\" + \"/temp\" \n",
        "GIT_PATH_TEMP = \"https://\" + GIT_TOKEN + \"@github.com/\" + GIT_USERNAME + \"/\" + GIT_REPOSITORY + \"/tree/master\" + \"/temp\" \n",
        "# paul_the_octopus_git/tree/master/temp\n",
        "\n",
        "!git clone \"{GIT_PATH_TEMP}\"\n",
        "# !rsync -aP --exclude=data/ \"{PROJECT_PATH}\"/* ./temp\n",
        "!rsync -aP --exclude=data/ \"{PROJECT_PATH}\"/* /temp\n",
        "\n",
        "%cd /temp\n",
        "!git add .\n",
        "!git commit -m '\"{GIT_COMMIT_MESSAGE}\"'\n",
        "!git config --global user.email \"{GIT_EMAIL}\"\n",
        "!git config --global user.name \"{GIT_NAME}\"\n",
        "!git push origin \"{GIT_BRANCH_NAME}\"\n",
        "%cd /content\n",
        "!rm -rf /temp"
      ],
      "execution_count": 27,
      "outputs": [
        {
          "output_type": "stream",
          "text": [
            "Cloning into 'temp'...\n",
            "fatal: repository 'https://3ee6a3545064bb68ed7be9f1446b75857993916a@github.com/ohjartat/paul_the_octopus_git/tree/master/temp/' not found\n",
            "sending incremental file list\n",
            "allsvenskan_predictions.ipynb\n",
            "         54,178 100%   20.42MB/s    0:00:00 (xfr#1, to-chk=10/11)\n",
            "lib/\n",
            "lib/VERSION-HISTORY.txt\n",
            "         14,256 100%   13.60MB/s    0:00:00 (xfr#2, to-chk=7/11)\n",
            "lib/crawl-svff-results.py\n",
            "         30,152 100%   14.38MB/s    0:00:00 (xfr#3, to-chk=6/11)\n",
            "lib/fileoperations.py\n",
            "          5,170 100%    1.64MB/s    0:00:00 (xfr#4, to-chk=5/11)\n",
            "lib/nhlapi.py\n",
            "          3,278 100%    1.04MB/s    0:00:00 (xfr#5, to-chk=4/11)\n",
            "lib/stadiums-surfaces.py\n",
            "            546 100%  133.30kB/s    0:00:00 (xfr#6, to-chk=3/11)\n",
            "lib/static.py\n",
            "          1,568 100%  306.25kB/s    0:00:00 (xfr#7, to-chk=2/11)\n",
            "lib/update-nhl-db.py\n",
            "         19,544 100%    3.11MB/s    0:00:00 (xfr#8, to-chk=1/11)\n",
            "lib/versions.py\n",
            "          1,066 100%  148.72kB/s    0:00:00 (xfr#9, to-chk=0/11)\n",
            "temp/\n",
            "/temp\n",
            "fatal: not a git repository (or any of the parent directories): .git\n",
            "fatal: not a git repository (or any of the parent directories): .git\n",
            "fatal: not a git repository (or any of the parent directories): .git\n",
            "/content\n"
          ],
          "name": "stdout"
        }
      ]
    }
  ]
}